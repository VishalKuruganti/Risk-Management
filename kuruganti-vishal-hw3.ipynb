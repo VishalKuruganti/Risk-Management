{
 "cells": [
  {
   "cell_type": "markdown",
   "metadata": {},
   "source": [
    "## Problem 1 :Answer the following questions:\n"
   ]
  },
  {
   "cell_type": "markdown",
   "metadata": {},
   "source": [
    "### Two risks that co-evolve are being modeled by the following joint density function:\n",
    "$$ f(x,y)= \\begin{cases}\n",
    "ce^{(-x-y)},&\\text{if x >0, y>0}\\\\\n",
    "0&\\text{otherwise}\\\\\n",
    "\\end{cases}$$\n",
    "#### (a) for what values of c is this a legitimate joint density function"
   ]
  },
  {
   "cell_type": "markdown",
   "metadata": {},
   "source": [
    "for $f(x,y)$ to be legitimate joint density function it needs to satisfy:"
   ]
  },
  {
   "cell_type": "markdown",
   "metadata": {},
   "source": [
    "$$\\int_{-\\infty}^{\\infty}\\int_{-\\infty}^{\\infty}f(x,y)dxdy=1 $$ <br>$$ \\int_{0}^{\\infty}\\int_{0}^{\\infty}ce^{(-x-y)}dxdy=1$$<br>$$(c)\\int_{0}^{\\infty}\\int_{0}^{\\infty}e^{(-x-y)}dxdy=1$$<br>"
   ]
  },
  {
   "cell_type": "code",
   "execution_count": 105,
   "metadata": {},
   "outputs": [
    {
     "data": {
      "text/plain": [
       "0.9999999999976233"
      ]
     },
     "execution_count": 105,
     "metadata": {},
     "output_type": "execute_result"
    }
   ],
   "source": [
    "import numpy as np\n",
    "import math\n",
    "from math import e\n",
    "import matplotlib.pyplot as plt\n",
    "from scipy.integrate import dblquad\n",
    "\n",
    "def func(x,y):\n",
    "    return math.exp(-x-y)\n",
    "ifty = float(\"inf\")\n",
    "ans,err = dblquad(func,0,ifty, lambda x: 0 , lambda x:ifty)\n",
    "\n",
    "ans"
   ]
  },
  {
   "cell_type": "code",
   "execution_count": 106,
   "metadata": {},
   "outputs": [
    {
     "data": {
      "text/plain": [
       "1.0"
      ]
     },
     "execution_count": 106,
     "metadata": {},
     "output_type": "execute_result"
    }
   ],
   "source": [
    "c = round(ans)\n",
    "c"
   ]
  },
  {
   "cell_type": "markdown",
   "metadata": {},
   "source": [
    "$$(c) \\Big(\\frac{e^{-x}}\n",
    "{-1}\\Biggr|_{0}^{\\infty}\\Big)\\Big(\\frac{e^{-y}}{-1}\\Biggr|_{0}^{\\infty}\\Big) = 1$$<br>$$c\\Big(\\frac{0-(1)}{-1}\\Big)\\Big(\\frac{0-(1)}{-1}\\Big)=1$$<br>$$c=1$$<br>\n",
    "\n"
   ]
  },
  {
   "cell_type": "markdown",
   "metadata": {},
   "source": [
    "If the value of c is 1, the function f(x,y) is joint density function:"
   ]
  },
  {
   "cell_type": "markdown",
   "metadata": {},
   "source": [
    "<br>$$ f(x,y)= \\begin{cases}e^{(-x-y)},&\\text{if x >0, y>0}\\\\\n",
    "0&\\text{otherwise}\\\\\n",
    "\\end{cases}$$"
   ]
  },
  {
   "cell_type": "markdown",
   "metadata": {},
   "source": [
    "#### (b) What is the probability of the ﬁrst risk exceeding in value than the second, i.e., P(X > Y )?\n"
   ]
  },
  {
   "cell_type": "markdown",
   "metadata": {},
   "source": [
    "The required probability is: \n",
    "$$\\int_{0}^{\\infty}\\int_{0}^{x}e^{(-x-y)}dxdy=1$$\n"
   ]
  },
  {
   "cell_type": "code",
   "execution_count": 107,
   "metadata": {},
   "outputs": [
    {
     "data": {
      "text/plain": [
       "0.49999999999999994"
      ]
     },
     "execution_count": 107,
     "metadata": {},
     "output_type": "execute_result"
    }
   ],
   "source": [
    "ans,err = dblquad(func,0,ifty, lambda x: 0 , lambda x:x)\n",
    "\n",
    "ans"
   ]
  },
  {
   "cell_type": "markdown",
   "metadata": {},
   "source": [
    "#### (c)  Determine P(X + Y > 1)\n"
   ]
  },
  {
   "cell_type": "markdown",
   "metadata": {},
   "source": [
    "The required probability P(X+Y>1) can be re-written as 1-P(X+Y<1)"
   ]
  },
  {
   "cell_type": "markdown",
   "metadata": {},
   "source": [
    "$$1-\\int_{0}^{1}\\int_{0}^{y}e^{(-x-y)}dxdy$$"
   ]
  },
  {
   "cell_type": "code",
   "execution_count": 108,
   "metadata": {},
   "outputs": [
    {
     "data": {
      "text/plain": [
       "0.26424111765711533"
      ]
     },
     "execution_count": 108,
     "metadata": {},
     "output_type": "execute_result"
    }
   ],
   "source": [
    "ans,err = dblquad(f,0,1, lambda x: 0 , lambda x:1-x)\n",
    "\n",
    "ans"
   ]
  },
  {
   "cell_type": "markdown",
   "metadata": {},
   "source": [
    "ans is the value of the $\\int_{0}^{1}\\int_{0}^{y}e^{(-x-y)}dxdy$ function. To get the value of P(X+Y>1), we need to subtract it from 1.\n"
   ]
  },
  {
   "cell_type": "code",
   "execution_count": 109,
   "metadata": {},
   "outputs": [
    {
     "data": {
      "text/plain": [
       "0.7357588823428847"
      ]
     },
     "execution_count": 109,
     "metadata": {},
     "output_type": "execute_result"
    }
   ],
   "source": [
    "1-ans"
   ]
  },
  {
   "cell_type": "markdown",
   "metadata": {},
   "source": [
    "## Problem 2 :Answer the following questions:"
   ]
  },
  {
   "cell_type": "markdown",
   "metadata": {},
   "source": [
    "The relation between two risks is summarized in the following joint density function\n",
    "$$ f(x,y)= \\begin{cases}\n",
    "ye^{-y(x+1)},&\\text{if } 0<=x,y< \\infty\\\\\n",
    "0&\\text{otherwise}\\\\\n",
    "\\end{cases}$$\n",
    "#### (a) What is the marginal density function of each risk, X and Y ?\n",
    "\n",
    "\n"
   ]
  },
  {
   "cell_type": "markdown",
   "metadata": {},
   "source": [
    "Let the functions f(X) and f(Y) be the marginal density functions of the risks X, Y.<br>\n",
    "The value of the functions are obtained by:$$f(y)=\\int_{0}^{\\infty}ye^{-y(x+1)}dy $$ and $$ f(x)=\\int_{0}^{\\infty}ye^{-y(x+1)}dx $$"
   ]
  },
  {
   "cell_type": "code",
   "execution_count": 110,
   "metadata": {},
   "outputs": [
    {
     "data": {
      "text/latex": [
       "$\\displaystyle - 1.0 \\cdot 2.71828182845905^{- \\infty y} + 1.0 \\cdot 2.71828182845905^{- y}$"
      ],
      "text/plain": [
       "-1.0*2.71828182845905**(-inf*y) + 1.0*2.71828182845905**(-y)"
      ]
     },
     "execution_count": 110,
     "metadata": {},
     "output_type": "execute_result"
    }
   ],
   "source": [
    "from sympy.abc import x,y\n",
    "from sympy import integrate\n",
    "fxy = y*e**((-y*x-y))\n",
    "fy = integrate(fxy,(x,0,ifty))\n",
    "fy"
   ]
  },
  {
   "cell_type": "markdown",
   "metadata": {},
   "source": [
    "This can be simplified as $e^{-y}$. The marginal distribution of y is $$f_{Y}=e^{-y}$$"
   ]
  },
  {
   "cell_type": "code",
   "execution_count": 111,
   "metadata": {},
   "outputs": [
    {
     "data": {
      "text/latex": [
       "$\\displaystyle \\begin{cases} \\frac{2.71828182845905^{- \\infty x - \\infty} \\left(- \\infty x - \\infty\\right)}{1.0 x^{2} + 2.0 x + 1.0} + \\frac{1.0}{1.0 x^{2} + 2.0 x + 1.0} & \\text{for}\\: x \\neq -1.0 \\\\\\infty & \\text{otherwise} \\end{cases}$"
      ],
      "text/plain": [
       "Piecewise((2.71828182845905**(-inf*x - inf)*(-inf*x - inf)/(1.0*x**2 + 2.0*x + 1.0) + 1.0/(1.0*x**2 + 2.0*x + 1.0), Ne(x, -1.0)), (inf, True))"
      ]
     },
     "execution_count": 111,
     "metadata": {},
     "output_type": "execute_result"
    }
   ],
   "source": [
    "fx = integrate(fxy,(y,0,ifty))\n",
    "fx"
   ]
  },
  {
   "cell_type": "markdown",
   "metadata": {},
   "source": [
    "This can be simplified as $\\frac{1}{(x+1)^{2}}$. The marginal distribution of x is $$f_{X}=\\frac{1}{(x+1)^{2}}$$"
   ]
  },
  {
   "cell_type": "markdown",
   "metadata": {},
   "source": [
    "#### (b)  Using the joint density, obtain the covariance of the two risks, and also their correlation.\n",
    "Covariance $Cov(X,Y)$ is obtained by $Cov(X,Y)=E(XY)-E(X).E(Y)$ where E is the mean function. However $E(X)$ is infinite and therefore the covariance is $\\infty$<br><br><br>$E(X) = \\int_{0}^{\\infty} \\frac{x}{(x+1)^2}dx$\n"
   ]
  },
  {
   "cell_type": "code",
   "execution_count": 112,
   "metadata": {},
   "outputs": [
    {
     "data": {
      "text/latex": [
       "$\\displaystyle \\infty$"
      ],
      "text/plain": [
       "inf"
      ]
     },
     "execution_count": 112,
     "metadata": {},
     "output_type": "execute_result"
    }
   ],
   "source": [
    "ex = x/(x+1)**2\n",
    "ex_r = integrate(ex,(x,0,ifty))\n",
    "ex_r"
   ]
  },
  {
   "cell_type": "markdown",
   "metadata": {},
   "source": [
    "$\\therefore Cov(X,Y)=\\infty$<br><br>$\\implies Cor(X,Y) = \\frac{Cov(X,Y)}{\\sqrt{(x)(y)}}$<br><br>$Cor(X,Y) = \\infty$\n",
    "###### The risks X, Y are not correlated"
   ]
  },
  {
   "cell_type": "markdown",
   "metadata": {},
   "source": [
    "#### (c) What is the Conditional Density of X given Y ?\n",
    "Let f(X|Y) denote the required conditional density function of x given y\n",
    "$$\\begin{align*}\n",
    "f(X|Y)=\\frac{f(x,y)}{f(y)}\\\\\\\\\n",
    " =\\frac{ye^{-y(x+1)}}{e^{-y}}\\\\\\\\\n",
    " ye^{-xy}\n",
    "\\end{align*}$$"
   ]
  }
 ],
 "metadata": {
  "kernelspec": {
   "display_name": "Python 2",
   "language": "python",
   "name": "python2"
  },
  "language_info": {
   "codemirror_mode": {
    "name": "ipython",
    "version": 2
   },
   "file_extension": ".py",
   "mimetype": "text/x-python",
   "name": "python",
   "nbconvert_exporter": "python",
   "pygments_lexer": "ipython2",
   "version": "2.7.16"
  }
 },
 "nbformat": 4,
 "nbformat_minor": 2
}
